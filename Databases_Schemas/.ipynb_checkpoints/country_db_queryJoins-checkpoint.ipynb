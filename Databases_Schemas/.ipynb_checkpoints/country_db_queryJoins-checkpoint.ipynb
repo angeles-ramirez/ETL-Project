{
 "cells": [
  {
   "cell_type": "code",
   "execution_count": null,
   "metadata": {},
   "outputs": [],
   "source": [
    "import sqlalchemy\n",
    "from sqlalchemy.ext.automap import automap_base\n",
    "from sqlalchemy.orm import Session\n",
    "from sqlalchemy import create_engine, inspect"
   ]
  },
  {
   "cell_type": "code",
   "execution_count": null,
   "metadata": {},
   "outputs": [],
   "source": [
    "#CONNECT TO DB \n",
    "url = 'postgresql://{user}:{passwd}@{host}:{port}/{db}'.format(\n",
    "user='postgres', passwd='Angybix6355', host='localhost', port='5432', db='country_db')\n",
    "\n",
    "engine = create_engine(url)\n",
    "connection = engine.connect()"
   ]
  },
  {
   "cell_type": "code",
   "execution_count": null,
   "metadata": {},
   "outputs": [],
   "source": [
    "# GET TABLES \n",
    "Base = automap_base()\n",
    "Base.prepare(engine, reflect=True)\n",
    "Base.classes.keys()\n"
   ]
  },
  {
   "cell_type": "code",
   "execution_count": null,
   "metadata": {},
   "outputs": [],
   "source": [
    "# MAP ALIAS TO TABLES \n",
    "free_ecos_4 = Base.classes.free\n",
    "life_expectancy = Base.classes.life\n",
    "united_nations_transformed = Base.classes.unt\n",
    "world_happiness_15 = Base.classes.wh15\n",
    "world_happiness_16 = Base.classes.wh16\n",
    "world_happiness_17 = Base.classes.wh17"
   ]
  },
  {
   "cell_type": "code",
   "execution_count": null,
   "metadata": {},
   "outputs": [],
   "source": [
    "session = Session(engine)"
   ]
  },
  {
   "cell_type": "markdown",
   "metadata": {},
   "source": [
    "# INSPECT TABLES "
   ]
  },
  {
   "cell_type": "code",
   "execution_count": null,
   "metadata": {},
   "outputs": [],
   "source": [
    "inspector = inspect(engine)\n",
    "inspector.get_table_names()"
   ]
  },
  {
   "cell_type": "code",
   "execution_count": null,
   "metadata": {},
   "outputs": [],
   "source": [
    "columns = inspector.get_columns('life_expectancy')\n",
    "for c in columns:\n",
    "    print(c['name'], c[\"type\"])"
   ]
  },
  {
   "cell_type": "code",
   "execution_count": null,
   "metadata": {},
   "outputs": [],
   "source": [
    "columnss = inspector.get_columns('united_nations_transformed')\n",
    "for d in columnss:\n",
    "    print(d['name'], d[\"type\"])"
   ]
  },
  {
   "cell_type": "code",
   "execution_count": null,
   "metadata": {},
   "outputs": [],
   "source": [
    "columnst = inspector.get_columns('world_happiness_15')\n",
    "for e in columnst:\n",
    "    print(e['name'], e[\"type\"])"
   ]
  },
  {
   "cell_type": "code",
   "execution_count": null,
   "metadata": {},
   "outputs": [],
   "source": [
    "columnsz = inspector.get_columns('free_ecos_4')\n",
    "for f in columnsz:\n",
    "    print(f['name'], f[\"type\"])"
   ]
  },
  {
   "cell_type": "markdown",
   "metadata": {},
   "source": [
    "# SOME COLUMN NAMES NOTES:\n",
    "happiness columns \n",
    "index\tcountry\thappiness_rank\thappiness_score\n",
    "\n",
    "free columns\n",
    "Country_Name\n",
    "Column('World_Rank' ,Integer),\n",
    "Column('Region_Rank', Integer),\n",
    "Column('2019_Score', Float(10,2)),"
   ]
  },
  {
   "cell_type": "markdown",
   "metadata": {},
   "source": [
    "# JOINS QUERYS BELOW :"
   ]
  },
  {
   "cell_type": "code",
   "execution_count": null,
   "metadata": {},
   "outputs": [],
   "source": [
    "# ATTEMPT THIS BASIC JOIN\n",
    "data = engine.execute(\"SELECT * FROM wh15.country     INNER JOIN free     ON wh15.country = free.Country_Name    LIMIT 10) \n",
    "data"
   ]
  },
  {
   "cell_type": "code",
   "execution_count": null,
   "metadata": {},
   "outputs": [],
   "source": [
    "# ATTEMPT BASIC JOIN 2 \n",
    "join_a = session.query.filter(wh15.country == free.Country_Name).limit(10).all()"
   ]
  },
  {
   "cell_type": "code",
   "execution_count": null,
   "metadata": {},
   "outputs": [],
   "source": [
    "# ATTEMPT ADVANCED JOIN 3 \n",
    "selection = [ wh15.country, wh15.happiness_rank, w15.happiness_score, free.Country_Name,  free.World_Rank,   free.Region_Rank  free.2019_Score]\n",
    "join_B = session.query(*selection).filter(wh15.country == free.Country_Name).limit(10).all()"
   ]
  },
  {
   "cell_type": "code",
   "execution_count": null,
   "metadata": {},
   "outputs": [],
   "source": []
  },
  {
   "cell_type": "code",
   "execution_count": null,
   "metadata": {},
   "outputs": [],
   "source": []
  },
  {
   "cell_type": "code",
   "execution_count": null,
   "metadata": {},
   "outputs": [],
   "source": []
  },
  {
   "cell_type": "markdown",
   "metadata": {},
   "source": [
    "# EXAMPLES OF JOINS BELOW  :"
   ]
  },
  {
   "cell_type": "markdown",
   "metadata": {},
   "source": [
    "\n",
    "selection = [ Measurement.station,  Station.name, Measurement.prcp, Station.latitude, Station.longitude, Station.elevation ]\n",
    "    join_1_ = session.query(*selection).filter(Measurement.station == Station.station).\\\n",
    "    filter(Measurement.date >='2017-02-28', Measurement.date <='2017-03-05' ).\\\n",
    "    order_by(Measurement.prcp.desc()).limit(10).all()\n",
    "    \n",
    "sel = [EA.family, EA.genus, EA.species, NA.family, NA.genus, NA.species]\n",
    "same_sporder = session.query(*sel).filter(EA.sporder == NA.sporder).limit(10).all()\n",
    "\n",
    "for record in same_sporder:\n",
    "    (ea_fam, ea_gen, ea_spec, na_fam, na_gen, na_spec) = record\n",
    "    print(\n",
    "        f\"The European animal '{ea_fam} {ea_gen} {ea_spec}'\"\n",
    "        f\"belongs to the same sporder as the North American animal '{na_fam} {na_gen} {na_spec}'.\")  "
   ]
  },
  {
   "cell_type": "code",
   "execution_count": null,
   "metadata": {},
   "outputs": [],
   "source": []
  },
  {
   "cell_type": "code",
   "execution_count": null,
   "metadata": {},
   "outputs": [],
   "source": []
  },
  {
   "cell_type": "code",
   "execution_count": null,
   "metadata": {},
   "outputs": [],
   "source": []
  }
 ],
 "metadata": {
  "kernelspec": {
   "display_name": "Python 3",
   "language": "python",
   "name": "python3"
  },
  "language_info": {
   "codemirror_mode": {
    "name": "ipython",
    "version": 3
   },
   "file_extension": ".py",
   "mimetype": "text/x-python",
   "name": "python",
   "nbconvert_exporter": "python",
   "pygments_lexer": "ipython3",
   "version": "3.6.8"
  }
 },
 "nbformat": 4,
 "nbformat_minor": 2
}
