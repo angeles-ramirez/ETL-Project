{
 "cells": [
  {
   "cell_type": "code",
   "execution_count": 26,
   "metadata": {},
   "outputs": [
    {
     "ename": "ImportError",
     "evalue": "cannot import name 'metadata' from 'sqlalchemy.ext.automap' (C:\\Users\\angy4\\Anaconda3\\lib\\site-packages\\sqlalchemy\\ext\\automap.py)",
     "output_type": "error",
     "traceback": [
      "\u001b[1;31m---------------------------------------------------------------------------\u001b[0m",
      "\u001b[1;31mImportError\u001b[0m                               Traceback (most recent call last)",
      "\u001b[1;32m<ipython-input-26-44a1627f255c>\u001b[0m in \u001b[0;36m<module>\u001b[1;34m\u001b[0m\n\u001b[0;32m      1\u001b[0m \u001b[1;32mimport\u001b[0m \u001b[0msqlalchemy\u001b[0m\u001b[1;33m\u001b[0m\u001b[1;33m\u001b[0m\u001b[0m\n\u001b[1;32m----> 2\u001b[1;33m \u001b[1;32mfrom\u001b[0m \u001b[0msqlalchemy\u001b[0m\u001b[1;33m.\u001b[0m\u001b[0mext\u001b[0m\u001b[1;33m.\u001b[0m\u001b[0mautomap\u001b[0m \u001b[1;32mimport\u001b[0m \u001b[0mautomap_base\u001b[0m\u001b[1;33m,\u001b[0m \u001b[0mmetadata\u001b[0m\u001b[1;33m\u001b[0m\u001b[1;33m\u001b[0m\u001b[0m\n\u001b[0m\u001b[0;32m      3\u001b[0m \u001b[1;32mfrom\u001b[0m \u001b[0msqlalchemy\u001b[0m\u001b[1;33m.\u001b[0m\u001b[0morm\u001b[0m \u001b[1;32mimport\u001b[0m \u001b[0mSession\u001b[0m\u001b[1;33m\u001b[0m\u001b[1;33m\u001b[0m\u001b[0m\n\u001b[0;32m      4\u001b[0m \u001b[1;32mfrom\u001b[0m \u001b[0msqlalchemy\u001b[0m \u001b[1;32mimport\u001b[0m \u001b[0mcreate_engine\u001b[0m\u001b[1;33m,\u001b[0m \u001b[0minspect\u001b[0m\u001b[1;33m\u001b[0m\u001b[1;33m\u001b[0m\u001b[0m\n",
      "\u001b[1;31mImportError\u001b[0m: cannot import name 'metadata' from 'sqlalchemy.ext.automap' (C:\\Users\\angy4\\Anaconda3\\lib\\site-packages\\sqlalchemy\\ext\\automap.py)"
     ]
    }
   ],
   "source": [
    "import sqlalchemy\n",
    "from sqlalchemy.ext.automap import automap_base\n",
    "from sqlalchemy.orm import Session\n",
    "from sqlalchemy import create_engine, inspect"
   ]
  },
  {
   "cell_type": "code",
   "execution_count": 2,
   "metadata": {},
   "outputs": [],
   "source": [
    "#CONNECT TO DB \n",
    "url = 'postgresql://{user}:{passwd}@{host}:{port}/{db}'.format(\n",
    "user='postgres', passwd='Angybix6355', host='localhost', port='5432', db='country_db')\n",
    "\n",
    "engine = create_engine(url)\n",
    "connection = engine.connect()"
   ]
  },
  {
   "cell_type": "code",
   "execution_count": 27,
   "metadata": {},
   "outputs": [
    {
     "data": {
      "text/plain": [
       "['life_expectancy']"
      ]
     },
     "execution_count": 27,
     "metadata": {},
     "output_type": "execute_result"
    }
   ],
   "source": [
    "# GET TABLES \n",
    "Base = automap_base()\n",
    "Base.prepare(engine, reflect=True)\n",
    "Base.classes.keys()\n"
   ]
  },
  {
   "cell_type": "code",
   "execution_count": 29,
   "metadata": {},
   "outputs": [
    {
     "data": {
      "text/plain": [
       "sqlalchemy.ext.automap.life_expectancy"
      ]
     },
     "execution_count": 29,
     "metadata": {},
     "output_type": "execute_result"
    }
   ],
   "source": [
    "# MAP ALIAS TO TABLES \n",
    "life = Base.classes.life_expectancy\n",
    "\n",
    "# unt = Base.classes.united_nations_transformed\n",
    "# wh15 = Base.classes.world_happiness_15\n",
    "# # world_happiness_16 = Base.classes.wh16\n",
    "# # world_happiness_17 = Base.classes.wh17\n",
    "\n"
   ]
  },
  {
   "cell_type": "code",
   "execution_count": 5,
   "metadata": {},
   "outputs": [],
   "source": [
    "session = Session(engine)"
   ]
  },
  {
   "cell_type": "markdown",
   "metadata": {},
   "source": [
    "# INSPECT TABLES "
   ]
  },
  {
   "cell_type": "code",
   "execution_count": 6,
   "metadata": {},
   "outputs": [
    {
     "data": {
      "text/plain": [
       "['united_nations_transformed',\n",
       " 'life_expectancy',\n",
       " 'world_happiness_15',\n",
       " 'world_happiness_16',\n",
       " 'world_happiness_17',\n",
       " 'free_ecos_4',\n",
       " 'country_db']"
      ]
     },
     "execution_count": 6,
     "metadata": {},
     "output_type": "execute_result"
    }
   ],
   "source": [
    "inspector = inspect(engine)\n",
    "inspector.get_table_names()"
   ]
  },
  {
   "cell_type": "code",
   "execution_count": 7,
   "metadata": {},
   "outputs": [
    {
     "name": "stdout",
     "output_type": "stream",
     "text": [
      "index BIGINT\n",
      "country TEXT\n",
      "year BIGINT\n",
      "life_expectancy DOUBLE PRECISION\n",
      "population DOUBLE PRECISION\n"
     ]
    }
   ],
   "source": [
    "columns = inspector.get_columns('life_expectancy')\n",
    "for c in columns:\n",
    "    print(c['name'], c[\"type\"])"
   ]
  },
  {
   "cell_type": "code",
   "execution_count": 8,
   "metadata": {},
   "outputs": [
    {
     "name": "stdout",
     "output_type": "stream",
     "text": [
      "country TEXT\n",
      "Region TEXT\n",
      "pop_in_1000s BIGINT\n",
      "pop_dens_per_sqkm DOUBLE PRECISION\n",
      "males_per_100_fem DOUBLE PRECISION\n",
      "GDP_in_mil_dol BIGINT\n",
      "GDP_per_cap_in_mil DOUBLE PRECISION\n",
      "unemploy_perct TEXT\n",
      "pop_growth_rate_perct TEXT\n",
      "live_births_per_woman TEXT\n"
     ]
    }
   ],
   "source": [
    "columnss = inspector.get_columns('united_nations_transformed')\n",
    "for d in columnss:\n",
    "    print(d['name'], d[\"type\"])"
   ]
  },
  {
   "cell_type": "code",
   "execution_count": 9,
   "metadata": {},
   "outputs": [
    {
     "name": "stdout",
     "output_type": "stream",
     "text": [
      "index BIGINT\n",
      "country TEXT\n",
      "happiness_rank BIGINT\n",
      "happiness_score DOUBLE PRECISION\n"
     ]
    }
   ],
   "source": [
    "columnst = inspector.get_columns('world_happiness_15')\n",
    "for e in columnst:\n",
    "    print(e['name'], e[\"type\"])"
   ]
  },
  {
   "cell_type": "code",
   "execution_count": 10,
   "metadata": {},
   "outputs": [
    {
     "name": "stdout",
     "output_type": "stream",
     "text": [
      "CountryID BIGINT\n",
      "Country_Name TEXT\n",
      "WEBNAME TEXT\n",
      "Region TEXT\n",
      "World_Rank DOUBLE PRECISION\n",
      "Region_Rank DOUBLE PRECISION\n",
      "2019_Score DOUBLE PRECISION\n",
      "Property_Rights DOUBLE PRECISION\n",
      "Judical_Effectiveness DOUBLE PRECISION\n",
      "Government_Integrity DOUBLE PRECISION\n",
      "Tax_Burden DOUBLE PRECISION\n",
      "Govt_Spending DOUBLE PRECISION\n",
      "Fiscal_Health DOUBLE PRECISION\n",
      "Business_Freedom DOUBLE PRECISION\n",
      "Labor_Freedom DOUBLE PRECISION\n",
      "Monetary_Freedom DOUBLE PRECISION\n",
      "Trade_Freedom DOUBLE PRECISION\n",
      "Investment_Freedom DOUBLE PRECISION\n",
      "Financial_Freedom DOUBLE PRECISION\n",
      "Tariff_Rate DOUBLE PRECISION\n",
      "Income_Tax_Rate DOUBLE PRECISION\n",
      "Corporate_Tax_Rate DOUBLE PRECISION\n",
      "Tax_Burden__of_GDP DOUBLE PRECISION\n",
      "Govt_Expenditure_of_GDP DOUBLE PRECISION\n",
      "Population_Millions DOUBLE PRECISION\n",
      "GDP_Billions_PPP DOUBLE PRECISION\n",
      "GDP_Growth_Rate DOUBLE PRECISION\n",
      "5_Year_GDP_Growth_Rate DOUBLE PRECISION\n",
      "GDP_per_Capita_PPP BIGINT\n",
      "Unemployment DOUBLE PRECISION\n",
      "Inflation DOUBLE PRECISION\n",
      "FDI_Inflow_Millions DOUBLE PRECISION\n",
      "Public_Debtof_GDP DOUBLE PRECISION\n"
     ]
    }
   ],
   "source": [
    "columnsz = inspector.get_columns('free_ecos_4')\n",
    "for f in columnsz:\n",
    "    print(f['name'], f[\"type\"])"
   ]
  },
  {
   "cell_type": "markdown",
   "metadata": {},
   "source": [
    "# SOME COLUMN NAMES NOTES:\n",
    "happiness columns \n",
    "index\tcountry\thappiness_rank\thappiness_score\n",
    "\n",
    "free columns\n",
    "Country_Name\n",
    "Column('World_Rank' ,Integer),\n",
    "Column('Region_Rank', Integer),\n",
    "Column('2019_Score', Float(10,2)),"
   ]
  },
  {
   "cell_type": "markdown",
   "metadata": {},
   "source": [
    "# JOINS QUERYS BELOW :"
   ]
  },
  {
   "cell_type": "code",
   "execution_count": 16,
   "metadata": {},
   "outputs": [
    {
     "ename": "SyntaxError",
     "evalue": "EOL while scanning string literal (<ipython-input-16-32dcc495dd9f>, line 2)",
     "output_type": "error",
     "traceback": [
      "\u001b[1;36m  File \u001b[1;32m\"<ipython-input-16-32dcc495dd9f>\"\u001b[1;36m, line \u001b[1;32m2\u001b[0m\n\u001b[1;33m    data = engine.execute(\"SELECT * FROM wh15.country)\u001b[0m\n\u001b[1;37m                                                       ^\u001b[0m\n\u001b[1;31mSyntaxError\u001b[0m\u001b[1;31m:\u001b[0m EOL while scanning string literal\n"
     ]
    }
   ],
   "source": [
    "# ATTEMPT THIS BASIC JOIN\n",
    "data = engine.execute(\"SELECT * FROM wh15.country\") \n",
    "data"
   ]
  },
  {
   "cell_type": "code",
   "execution_count": 12,
   "metadata": {},
   "outputs": [
    {
     "ename": "AttributeError",
     "evalue": "'function' object has no attribute 'filter'",
     "output_type": "error",
     "traceback": [
      "\u001b[1;31m---------------------------------------------------------------------------\u001b[0m",
      "\u001b[1;31mAttributeError\u001b[0m                            Traceback (most recent call last)",
      "\u001b[1;32m<ipython-input-12-dfc15faf73f4>\u001b[0m in \u001b[0;36m<module>\u001b[1;34m\u001b[0m\n\u001b[0;32m      1\u001b[0m \u001b[1;31m# ATTEMPT BASIC JOIN 2\u001b[0m\u001b[1;33m\u001b[0m\u001b[1;33m\u001b[0m\u001b[1;33m\u001b[0m\u001b[0m\n\u001b[1;32m----> 2\u001b[1;33m \u001b[0mjoin_a\u001b[0m \u001b[1;33m=\u001b[0m \u001b[0msession\u001b[0m\u001b[1;33m.\u001b[0m\u001b[0mquery\u001b[0m\u001b[1;33m.\u001b[0m\u001b[0mfilter\u001b[0m\u001b[1;33m(\u001b[0m\u001b[0mwh15\u001b[0m\u001b[1;33m.\u001b[0m\u001b[0mcountry\u001b[0m \u001b[1;33m==\u001b[0m \u001b[0mfree\u001b[0m\u001b[1;33m.\u001b[0m\u001b[0mCountry_Name\u001b[0m\u001b[1;33m)\u001b[0m\u001b[1;33m.\u001b[0m\u001b[0mlimit\u001b[0m\u001b[1;33m(\u001b[0m\u001b[1;36m10\u001b[0m\u001b[1;33m)\u001b[0m\u001b[1;33m.\u001b[0m\u001b[0mall\u001b[0m\u001b[1;33m(\u001b[0m\u001b[1;33m)\u001b[0m\u001b[1;33m\u001b[0m\u001b[1;33m\u001b[0m\u001b[0m\n\u001b[0m",
      "\u001b[1;31mAttributeError\u001b[0m: 'function' object has no attribute 'filter'"
     ]
    }
   ],
   "source": [
    "# ATTEMPT BASIC JOIN 2 \n",
    "join_a = session.query.filter(wh15.country == free.Country_Name).limit(10).all()"
   ]
  },
  {
   "cell_type": "code",
   "execution_count": 13,
   "metadata": {},
   "outputs": [
    {
     "ename": "SyntaxError",
     "evalue": "invalid syntax (<ipython-input-13-3824b37758f5>, line 2)",
     "output_type": "error",
     "traceback": [
      "\u001b[1;36m  File \u001b[1;32m\"<ipython-input-13-3824b37758f5>\"\u001b[1;36m, line \u001b[1;32m2\u001b[0m\n\u001b[1;33m    selection = [ wh15.country, wh15.happiness_rank, w15.happiness_score, free.Country_Name,  free.World_Rank,   free.Region_Rank  free.2019_Score]\u001b[0m\n\u001b[1;37m                                                                                                                                      ^\u001b[0m\n\u001b[1;31mSyntaxError\u001b[0m\u001b[1;31m:\u001b[0m invalid syntax\n"
     ]
    }
   ],
   "source": [
    "# ATTEMPT ADVANCED JOIN 3 \n",
    "selection = [ wh15.country, wh15.happiness_rank, w15.happiness_score, free.Country_Name,  free.World_Rank,   free.Region_Rank  free.2019_Score]\n",
    "join_B = session.query(*selection).filter(wh15.country == free.Country_Name).limit(10).all()"
   ]
  },
  {
   "cell_type": "code",
   "execution_count": null,
   "metadata": {},
   "outputs": [],
   "source": []
  },
  {
   "cell_type": "code",
   "execution_count": null,
   "metadata": {},
   "outputs": [],
   "source": []
  },
  {
   "cell_type": "code",
   "execution_count": null,
   "metadata": {},
   "outputs": [],
   "source": []
  },
  {
   "cell_type": "markdown",
   "metadata": {},
   "source": [
    "# EXAMPLES OF JOINS BELOW  :"
   ]
  },
  {
   "cell_type": "markdown",
   "metadata": {},
   "source": [
    "\n",
    "selection = [ Measurement.station,  Station.name, Measurement.prcp, Station.latitude, Station.longitude, Station.elevation ]\n",
    "    join_1_ = session.query(*selection).filter(Measurement.station == Station.station).\\\n",
    "    filter(Measurement.date >='2017-02-28', Measurement.date <='2017-03-05' ).\\\n",
    "    order_by(Measurement.prcp.desc()).limit(10).all()\n",
    "    \n",
    "sel = [EA.family, EA.genus, EA.species, NA.family, NA.genus, NA.species]\n",
    "same_sporder = session.query(*sel).filter(EA.sporder == NA.sporder).limit(10).all()\n",
    "\n",
    "for record in same_sporder:\n",
    "    (ea_fam, ea_gen, ea_spec, na_fam, na_gen, na_spec) = record\n",
    "    print(\n",
    "        f\"The European animal '{ea_fam} {ea_gen} {ea_spec}'\"\n",
    "        f\"belongs to the same sporder as the North American animal '{na_fam} {na_gen} {na_spec}'.\")  "
   ]
  },
  {
   "cell_type": "code",
   "execution_count": null,
   "metadata": {},
   "outputs": [],
   "source": []
  },
  {
   "cell_type": "code",
   "execution_count": null,
   "metadata": {},
   "outputs": [],
   "source": []
  },
  {
   "cell_type": "code",
   "execution_count": null,
   "metadata": {},
   "outputs": [],
   "source": []
  }
 ],
 "metadata": {
  "kernelspec": {
   "display_name": "Python 3",
   "language": "python",
   "name": "python3"
  }
 },
 "nbformat": 4,
 "nbformat_minor": 2
}
